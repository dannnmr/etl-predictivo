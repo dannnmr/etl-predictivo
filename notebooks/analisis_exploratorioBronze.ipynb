{
 "cells": [
  {
   "cell_type": "code",
   "execution_count": 1,
   "id": "495087d6",
   "metadata": {},
   "outputs": [
    {
     "name": "stdout",
     "output_type": "stream",
     "text": [
      "🔍 ANÁLISIS EXPLORATORIO DE DATOS - CAPA BRONZE\n",
      "============================================================\n"
     ]
    }
   ],
   "source": [
    "#unir los archivos en una sola tabla\n",
    "# Análisis Exploratorio de Datos - Capa Bronze\n",
    "# Autor: Sistema de Análisis de Transformadores\n",
    "# Fecha: 2025-07-16\n",
    "\n",
    "import pandas as pd\n",
    "import numpy as np\n",
    "import matplotlib.pyplot as plt\n",
    "import seaborn as sns\n",
    "import os\n",
    "from pathlib import Path\n",
    "import warnings\n",
    "warnings.filterwarnings('ignore')\n",
    "\n",
    "# Configuración de visualización\n",
    "plt.style.use('seaborn-v0_8')\n",
    "sns.set_palette(\"husl\")\n",
    "plt.rcParams['figure.figsize'] = (12, 6)\n",
    "plt.rcParams['font.size'] = 10\n",
    "\n",
    "print(\"🔍 ANÁLISIS EXPLORATORIO DE DATOS - CAPA BRONZE\")\n",
    "print(\"=\" * 60)"
   ]
  },
  {
   "cell_type": "code",
   "execution_count": null,
   "id": "c86a59d7",
   "metadata": {},
   "outputs": [
    {
     "ename": "ModuleNotFoundError",
     "evalue": "No module named 'config'",
     "output_type": "error",
     "traceback": [
      "\u001b[31m---------------------------------------------------------------------------\u001b[39m",
      "\u001b[31mModuleNotFoundError\u001b[39m                       Traceback (most recent call last)",
      "\u001b[36mCell\u001b[39m\u001b[36m \u001b[39m\u001b[32mIn[1]\u001b[39m\u001b[32m, line 3\u001b[39m\n\u001b[32m      1\u001b[39m \u001b[38;5;28;01mimport\u001b[39;00m\u001b[38;5;250m \u001b[39m\u001b[34;01mpandas\u001b[39;00m\u001b[38;5;250m \u001b[39m\u001b[38;5;28;01mas\u001b[39;00m\u001b[38;5;250m \u001b[39m\u001b[34;01mpd\u001b[39;00m\n\u001b[32m      2\u001b[39m \u001b[38;5;28;01mimport\u001b[39;00m\u001b[38;5;250m \u001b[39m\u001b[34;01mos\u001b[39;00m\n\u001b[32m----> \u001b[39m\u001b[32m3\u001b[39m \u001b[38;5;28;01mfrom\u001b[39;00m\u001b[38;5;250m \u001b[39m\u001b[34;01mconfig\u001b[39;00m\u001b[38;5;250m \u001b[39m\u001b[38;5;28;01mimport\u001b[39;00m BRONZE_DIR, TODAS_LAS_VARIABLES\n\u001b[32m      5\u001b[39m variable_ejemplo = \u001b[33m\"\u001b[39m\u001b[33mvoltaje\u001b[39m\u001b[33m\"\u001b[39m \u001b[38;5;66;03m# O cualquier otra variable\u001b[39;00m\n\u001b[32m      6\u001b[39m ruta_bronze = os.path.join(BRONZE_DIR, \u001b[33mf\u001b[39m\u001b[33m\"\u001b[39m\u001b[38;5;132;01m{\u001b[39;00mvariable_ejemplo\u001b[38;5;132;01m}\u001b[39;00m\u001b[33m.parquet\u001b[39m\u001b[33m\"\u001b[39m)\n",
      "\u001b[31mModuleNotFoundError\u001b[39m: No module named 'config'"
     ]
    }
   ],
   "source": []
  },
  {
   "cell_type": "code",
   "execution_count": 2,
   "id": "a68138c1",
   "metadata": {},
   "outputs": [
    {
     "name": "stdout",
     "output_type": "stream",
     "text": [
      "📁 Explorando directorio: ..\\data\\bronze\n",
      "🔗 Ruta absoluta: C:\\Users\\Asus TUF\\Desktop\\proy_ml\\data\\bronze\n",
      "\n",
      "📊 Total de archivos encontrados: 9\n",
      "\n",
      "📋 Lista de archivos:\n",
      "   1. corriente_carga.parquet        (63.19 MB)\n",
      "   2. humedad_papel.parquet          (0.08 MB)\n",
      "   3. potencia_aparente.parquet      (4.69 MB)\n",
      "   4. tap_position.parquet           (0.09 MB)\n",
      "   5. temperatura_aceite.parquet     (0.17 MB)\n",
      "   6. temperatura_ambiente.parquet   (0.32 MB)\n",
      "   7. temperatura_burbujeo.parquet   (0.19 MB)\n",
      "   8. temperatura_punto_caliente.parquet (0.35 MB)\n",
      "   9. voltaje.parquet                (44.87 MB)\n"
     ]
    }
   ],
   "source": [
    "# 1. EXPLORACIÓN DE LA ESTRUCTURA DE ARCHIVOS\n",
    "bronze_dir = Path(\"../data/bronze\")\n",
    "print(f\"📁 Explorando directorio: {bronze_dir}\")\n",
    "print(f\"🔗 Ruta absoluta: {bronze_dir.resolve()}\")\n",
    "\n",
    "# Listar todos los archivos .parquet\n",
    "archivos_parquet = list(bronze_dir.glob(\"*.parquet\"))\n",
    "print(f\"\\n📊 Total de archivos encontrados: {len(archivos_parquet)}\")\n",
    "\n",
    "if archivos_parquet:\n",
    "    print(\"\\n📋 Lista de archivos:\")\n",
    "    for i, archivo in enumerate(archivos_parquet, 1):\n",
    "        size_mb = archivo.stat().st_size / (1024 * 1024)\n",
    "        print(f\"  {i:2d}. {archivo.name:<30} ({size_mb:.2f} MB)\")\n",
    "else:\n",
    "    print(\"⚠️  No se encontraron archivos .parquet en la carpeta bronze\")"
   ]
  },
  {
   "cell_type": "code",
   "execution_count": null,
   "id": "967ab2bc",
   "metadata": {},
   "outputs": [],
   "source": []
  }
 ],
 "metadata": {
  "kernelspec": {
   "display_name": "venv",
   "language": "python",
   "name": "python3"
  },
  "language_info": {
   "codemirror_mode": {
    "name": "ipython",
    "version": 3
   },
   "file_extension": ".py",
   "mimetype": "text/x-python",
   "name": "python",
   "nbconvert_exporter": "python",
   "pygments_lexer": "ipython3",
   "version": "3.13.1"
  }
 },
 "nbformat": 4,
 "nbformat_minor": 5
}
